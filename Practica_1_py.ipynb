{
  "nbformat": 4,
  "nbformat_minor": 0,
  "metadata": {
    "colab": {
      "provenance": [],
      "authorship_tag": "ABX9TyN92ojjpPzttBSZKXTP8VEp",
      "include_colab_link": true
    },
    "kernelspec": {
      "name": "python3",
      "display_name": "Python 3"
    },
    "language_info": {
      "name": "python"
    }
  },
  "cells": [
    {
      "cell_type": "markdown",
      "metadata": {
        "id": "view-in-github",
        "colab_type": "text"
      },
      "source": [
        "<a href=\"https://colab.research.google.com/github/juanmvalencia1-lgtm/Ejercicios-en-clase-/blob/main/Practica_1_py.ipynb\" target=\"_parent\"><img src=\"https://colab.research.google.com/assets/colab-badge.svg\" alt=\"Open In Colab\"/></a>"
      ]
    },
    {
      "cell_type": "code",
      "execution_count": null,
      "metadata": {
        "colab": {
          "base_uri": "https://localhost:8080/"
        },
        "id": "ZWeBlngXai3L",
        "outputId": "5b92f086-bf76-454b-f364-28849473257c"
      },
      "outputs": [
        {
          "output_type": "stream",
          "name": "stdout",
          "text": [
            "Economía Juan Manuel Valencia Mejía UdeA 2025\n",
            "Juan Manuel Valencia Mejía, 2025, Economía, UdeA\n",
            "1. Smith, J. (2020). Machine Learning Fundamentals.\n",
            "2. García, M. (2021). Data Analysis Techniques.\n",
            "3. Lee, K. (2023). Python for Research.\n",
            "\n",
            "10.1000.182.v1\n"
          ]
        }
      ],
      "source": [
        "#Parte 1\n",
        "#Concatenar cadenas de texto\n",
        "\n",
        "# INSTRUCCIONES: Construye documentos académicos Usando tus datos\n",
        "titulo = \"Economía\"\n",
        "autor = \"Juan Manuel Valencia Mejía\"\n",
        "institucion = \"UdeA\"\n",
        "fecha = \"2025\"\n",
        "\n",
        "#del print\n",
        "\n",
        "\n",
        "# 1. Construye el encabezado del documento Titulo, Autor, Institución, Fecha\n",
        "\n",
        "print (titulo, autor, institucion, fecha)\n",
        "\n",
        "# 2. Construye una bibliografía del documento\n",
        "bibliografia = autor + \", \" + fecha + \", \" + titulo + \", \" + institucion + \"\\n\"\n",
        "bibliografia += \"1. Smith, J. (2020). Machine Learning Fundamentals.\\n\"\n",
        "bibliografia += \"2. García, M. (2021). Data Analysis Techniques.\\n\"\n",
        "bibliografia += \"3. Lee, K. (2023). Python for Research.\\n\"\n",
        "\n",
        "\n",
        "print (bibliografia)\n",
        "\n",
        "# 3. Crea un DOI (10.1000/182.v1) concatenando partes\n",
        "prefijo = \"10.1000\"\n",
        "sufijo = \"182\"\n",
        "version = \"v1\"\n",
        "\n",
        "DOI= prefijo + \".\" + sufijo + \".\" + version\n",
        "\n",
        "print (DOI)"
      ]
    },
    {
      "cell_type": "code",
      "source": [
        "# INSTRUCCIONES: Crea elementos visuales para interfaz\n",
        "separador = \"-\"\n",
        "encabezado = \"SISTEMA UNIVERSITARIO\"\n",
        "calificacion = \"★\"\n",
        "estrella_vacia= \"☆\"\n",
        "nota = 4.5\n",
        "\n",
        "#********** SISTEMA UNIVERSITARIO **********\n",
        "#Calificación: ★★★★☆ (4.5/5)\n",
        "\n",
        "asteriscos = \"*\"*10\n",
        "\n",
        "print (asteriscos, encabezado, asteriscos)\n",
        "print (\"Calificación:\", calificacion*4, estrella_vacia, \"(\", nota, \"/5)\")"
      ],
      "metadata": {
        "colab": {
          "base_uri": "https://localhost:8080/"
        },
        "id": "DUfhV6Ygjm5H",
        "outputId": "e3dc1d2e-80dd-4581-823c-f921d611b67d"
      },
      "execution_count": null,
      "outputs": [
        {
          "output_type": "stream",
          "name": "stdout",
          "text": [
            "********** SISTEMA UNIVERSITARIO **********\n",
            "Calificación: ★★★★ ☆ ( 4.5 /5)\n"
          ]
        }
      ]
    },
    {
      "cell_type": "code",
      "source": [
        "#Parte 3\n",
        "#Longitud de texto\n",
        "\n",
        "# INSTRUCCIONES: Analiza longitudes de textos universitarios\n",
        "resumen = '''El presente artículo expone los resultados de un estudio orientado al desarrollo de un modelo de machine learning para la predicción del comportamiento de\n",
        "consumo energético en entornos urbanos, utilizando técnicas avanzadas de análisis de datos. Se recopiló un conjunto de más de 500 000 registros provenientes de sensores\n",
        "inteligentes instalados en la red eléctrica de tres ciudades latinoamericanas. Mediante un proceso de limpieza, normalización y transformación de datos, se identificaron\n",
        " patrones relevantes asociados con variables como temperatura ambiental, hora del día y tipo de zona residencial.\n",
        "\n",
        "El análisis exploratorio permitió detectar correlaciones significativas y anomalías de consumo que fueron modeladas mediante algoritmos supervisados, incluyendo Random Forest,\n",
        " XGBoost y redes neuronales profundas (Deep Neural Networks). Los resultados experimentales mostraron que el modelo basado en XGBoost alcanzó la mayor precisión, con un R² de 0.94 y\n",
        "  un MAE promedio de 0.18, superando en un 12% a los métodos tradicionales de regresión lineal.\n",
        "\n",
        "Además, se desarrolló un tablero interactivo de visualización que permite monitorear en tiempo real las predicciones y el rendimiento energético por sector. Se concluye que la\n",
        " integración de técnicas de machine learning con sistemas de monitoreo urbano representa una herramienta estratégica para la optimización del uso de recursos y la planificación energética sostenible'''\n",
        "\n",
        "titulo = \"Predicción del consumo energético urbano mediante técnicas de análisis de datos y machine learning\"\n",
        "nombre_completo = \"María José Rodríguez Hernández\"\n",
        "\n",
        "\n",
        "len (resumen)"
      ],
      "metadata": {
        "colab": {
          "base_uri": "https://localhost:8080/"
        },
        "id": "fMDXRBFTmg-t",
        "outputId": "4e38bc67-9a6d-4cce-8765-da6e2f8e7972"
      },
      "execution_count": null,
      "outputs": [
        {
          "output_type": "execute_result",
          "data": {
            "text/plain": [
              "1438"
            ]
          },
          "metadata": {},
          "execution_count": 53
        }
      ]
    }
  ]
}