{
  "nbformat": 4,
  "nbformat_minor": 0,
  "metadata": {
    "colab": {
      "provenance": [],
      "authorship_tag": "ABX9TyPuq8CBY2poGAoGiHWjpbKY",
      "include_colab_link": true
    },
    "kernelspec": {
      "name": "python3",
      "display_name": "Python 3"
    },
    "language_info": {
      "name": "python"
    }
  },
  "cells": [
    {
      "cell_type": "markdown",
      "metadata": {
        "id": "view-in-github",
        "colab_type": "text"
      },
      "source": [
        "<a href=\"https://colab.research.google.com/github/juanmvalencia1-lgtm/Ejercicios-en-clase-/blob/main/Practica_1_py.ipynb\" target=\"_parent\"><img src=\"https://colab.research.google.com/assets/colab-badge.svg\" alt=\"Open In Colab\"/></a>"
      ]
    },
    {
      "cell_type": "code",
      "execution_count": null,
      "metadata": {
        "colab": {
          "base_uri": "https://localhost:8080/"
        },
        "id": "ZWeBlngXai3L",
        "outputId": "5b92f086-bf76-454b-f364-28849473257c"
      },
      "outputs": [
        {
          "output_type": "stream",
          "name": "stdout",
          "text": [
            "Economía Juan Manuel Valencia Mejía UdeA 2025\n",
            "Juan Manuel Valencia Mejía, 2025, Economía, UdeA\n",
            "1. Smith, J. (2020). Machine Learning Fundamentals.\n",
            "2. García, M. (2021). Data Analysis Techniques.\n",
            "3. Lee, K. (2023). Python for Research.\n",
            "\n",
            "10.1000.182.v1\n"
          ]
        }
      ],
      "source": [
        "#Parte 1\n",
        "#Concatenar cadenas de texto\n",
        "\n",
        "# INSTRUCCIONES: Construye documentos académicos Usando tus datos\n",
        "titulo = \"Economía\"\n",
        "autor = \"Juan Manuel Valencia Mejía\"\n",
        "institucion = \"UdeA\"\n",
        "fecha = \"2025\"\n",
        "\n",
        "#del print\n",
        "\n",
        "\n",
        "# 1. Construye el encabezado del documento Titulo, Autor, Institución, Fecha\n",
        "\n",
        "print (titulo, autor, institucion, fecha)\n",
        "\n",
        "# 2. Construye una bibliografía del documento\n",
        "bibliografia = autor + \", \" + fecha + \", \" + titulo + \", \" + institucion + \"\\n\"\n",
        "bibliografia += \"1. Smith, J. (2020). Machine Learning Fundamentals.\\n\"\n",
        "bibliografia += \"2. García, M. (2021). Data Analysis Techniques.\\n\"\n",
        "bibliografia += \"3. Lee, K. (2023). Python for Research.\\n\"\n",
        "\n",
        "\n",
        "print (bibliografia)\n",
        "\n",
        "# 3. Crea un DOI (10.1000/182.v1) concatenando partes\n",
        "prefijo = \"10.1000\"\n",
        "sufijo = \"182\"\n",
        "version = \"v1\"\n",
        "\n",
        "DOI= prefijo + \".\" + sufijo + \".\" + version\n",
        "\n",
        "print (DOI)"
      ]
    },
    {
      "cell_type": "code",
      "source": [
        "# INSTRUCCIONES: Crea elementos visuales para interfaz\n",
        "separador = \"-\"\n",
        "encabezado = \"SISTEMA UNIVERSITARIO\"\n",
        "calificacion = \"★\"\n",
        "estrella_vacia= \"☆\"\n",
        "nota = 4.5\n",
        "\n",
        "#********** SISTEMA UNIVERSITARIO **********\n",
        "#Calificación: ★★★★☆ (4.5/5)\n",
        "\n",
        "asteriscos = \"*\"*10\n",
        "\n",
        "print (asteriscos, encabezado, asteriscos)\n",
        "print (\"Calificación:\", calificacion*4, estrella_vacia, \"(\", nota, \"/5)\")"
      ],
      "metadata": {
        "colab": {
          "base_uri": "https://localhost:8080/"
        },
        "id": "DUfhV6Ygjm5H",
        "outputId": "e3dc1d2e-80dd-4581-823c-f921d611b67d"
      },
      "execution_count": null,
      "outputs": [
        {
          "output_type": "stream",
          "name": "stdout",
          "text": [
            "********** SISTEMA UNIVERSITARIO **********\n",
            "Calificación: ★★★★ ☆ ( 4.5 /5)\n"
          ]
        }
      ]
    },
    {
      "cell_type": "code",
      "source": [
        "#Parte 3\n",
        "#Longitud de texto\n",
        "\n",
        "# INSTRUCCIONES: Analiza longitudes de textos universitarios\n",
        "resumen = '''El presente artículo expone los resultados de un estudio orientado al desarrollo de un modelo de machine learning para la predicción del comportamiento de\n",
        "consumo energético en entornos urbanos, utilizando técnicas avanzadas de análisis de datos. Se recopiló un conjunto de más de 500 000 registros provenientes de sensores\n",
        "inteligentes instalados en la red eléctrica de tres ciudades latinoamericanas. Mediante un proceso de limpieza, normalización y transformación de datos, se identificaron\n",
        " patrones relevantes asociados con variables como temperatura ambiental, hora del día y tipo de zona residencial.\n",
        "\n",
        "El análisis exploratorio permitió detectar correlaciones significativas y anomalías de consumo que fueron modeladas mediante algoritmos supervisados, incluyendo Random Forest,\n",
        " XGBoost y redes neuronales profundas (Deep Neural Networks). Los resultados experimentales mostraron que el modelo basado en XGBoost alcanzó la mayor precisión, con un R² de 0.94 y\n",
        "  un MAE promedio de 0.18, superando en un 12% a los métodos tradicionales de regresión lineal.\n",
        "\n",
        "Además, se desarrolló un tablero interactivo de visualización que permite monitorear en tiempo real las predicciones y el rendimiento energético por sector. Se concluye que la\n",
        " integración de técnicas de machine learning con sistemas de monitoreo urbano representa una herramienta estratégica para la optimización del uso de recursos y la planificación energética sostenible'''\n",
        "\n",
        "titulo = \"Predicción del consumo energético urbano mediante técnicas de análisis de datos y machine learning\"\n",
        "nombre_completo = \"María José Rodríguez Hernández\"\n",
        "\n",
        "\n",
        "len (resumen)"
      ],
      "metadata": {
        "colab": {
          "base_uri": "https://localhost:8080/"
        },
        "id": "fMDXRBFTmg-t",
        "outputId": "4e38bc67-9a6d-4cce-8765-da6e2f8e7972"
      },
      "execution_count": null,
      "outputs": [
        {
          "output_type": "execute_result",
          "data": {
            "text/plain": [
              "1438"
            ]
          },
          "metadata": {},
          "execution_count": 53
        }
      ]
    },
    {
      "cell_type": "code",
      "source": [
        "#Parte 4\n",
        "#Verifica contenido en textos académicos\n",
        "# Palabras Clave en el resumen del punto anterior: Análisis de datos, Machine learning, Consumo energético, Modelos predictivos\n",
        "\n",
        "palabras_clave = [\"análisis de datos\", \"machine learning\", \"consumo energético\", \"modelos predictivos\"]\n",
        "# 1. Verifica si cada palabra clave está en el abstract y cuantas veces aparece\n",
        "\n",
        "\n",
        "\n",
        "# Convertimos todo el texto a minúsculas para evitar errores por mayúsculas/minúsculas\n",
        "resumen_lower = resumen.lower()\n",
        "\n",
        "# Recorremos la lista de palabras clave\n",
        "for palabra in palabras_clave:\n",
        "    conteo = resumen_lower.count(palabra.lower())  # Cuenta cuántas veces aparece\n",
        "    if conteo > 0:\n",
        "        print(f\"La palabra clave '{palabra}' aparece {conteo} vez/veces en el resumen.\")\n",
        "    else:\n",
        "        print(f\"La palabra clave '{palabra}' no aparece en el resumen.\")\n"
      ],
      "metadata": {
        "colab": {
          "base_uri": "https://localhost:8080/"
        },
        "id": "rYgTpUHv15s9",
        "outputId": "d9156dd0-b012-47e8-8cca-4d8ff9177b84"
      },
      "execution_count": 54,
      "outputs": [
        {
          "output_type": "stream",
          "name": "stdout",
          "text": [
            "La palabra clave 'análisis de datos' aparece 1 vez/veces en el resumen.\n",
            "La palabra clave 'machine learning' aparece 2 vez/veces en el resumen.\n",
            "La palabra clave 'consumo energético' aparece 1 vez/veces en el resumen.\n",
            "La palabra clave 'modelos predictivos' no aparece en el resumen.\n"
          ]
        }
      ]
    },
    {
      "cell_type": "code",
      "source": [
        "#Parte 5\n",
        "# INSTRUCCIONES: Normaliza datos de entrada de usuario\n",
        "entrada_usuario = \"  ana maría GARCÍA  \"\n",
        "titulo_libro = \"introducción a la PROGRAMACIÓN en PYTHON\"\n",
        "\n",
        "# 1. Normaliza el nombre: Primera letra mayúscula, resto minúsculas, sin espacios\n",
        "nombre_normalizado = entrada_usuario._____()._____()  # Completa la cadena\n",
        "print(\"1. Nombre normalizado:\", ________)\n",
        "\n",
        "# 2. Convierte el título del libro a formato título (cada palabra capitalizada)\n",
        "titulo_normalizado = titulo_libro._______()  # Completa\n",
        "print(\"2. Título normalizado:\", titulo_normalizado)\n",
        "\n",
        "# 3. Crea un email institucional: nombre.apellido@universidad.edu todo en minuscula\n",
        "partes_nombre = nombre_normalizado._______()\n",
        "email_institucional = f\"{partes_nombre[0]}.{partes_nombre[1]}___________\"  # Completa\n",
        "print(\"3. Email institucional:\")\n",
        "\n",
        "\n",
        "# INSTRUCCIONES: Normaliza datos de entrada de usuario\n",
        "entrada_usuario = \"  ana maría GARCÍA  \"\n",
        "titulo_libro = \"introducción a la PROGRAMACIÓN en PYTHON\"\n",
        "\n",
        "# 1. Normaliza el nombre: Primera letra mayúscula, resto minúsculas, sin espacios\n",
        "nombre_normalizado = entrada_usuario.strip().title()  # Quita espacios y pone mayúscula inicial en cada palabra\n",
        "print(\"1. Nombre normalizado:\", nombre_normalizado)\n",
        "\n",
        "# 2. Convierte el título del libro a formato título (cada palabra capitalizada)\n",
        "titulo_normalizado = titulo_libro.title()\n",
        "print(\"2. Título normalizado:\", titulo_normalizado)\n",
        "\n",
        "# 3. Crea un email institucional: nombre.apellido@universidad.edu todo en minuscula\n",
        "partes_nombre = nombre_normalizado.split()  # Separa [\"Ana\", \"María\", \"García\"]\n",
        "email_institucional = f\"{partes_nombre[0].lower()}.{partes_nombre[-1].lower()}@universidad.edu\"\n",
        "print(\"3. Email institucional:\", email_institucional)\n",
        "\n"
      ],
      "metadata": {
        "colab": {
          "base_uri": "https://localhost:8080/",
          "height": 211
        },
        "id": "Eul-1dDP7Jry",
        "outputId": "a1a62996-55c5-4a4d-857d-e83569b1557c"
      },
      "execution_count": 55,
      "outputs": [
        {
          "output_type": "error",
          "ename": "AttributeError",
          "evalue": "'str' object has no attribute '_____'",
          "traceback": [
            "\u001b[0;31m---------------------------------------------------------------------------\u001b[0m",
            "\u001b[0;31mAttributeError\u001b[0m                            Traceback (most recent call last)",
            "\u001b[0;32m/tmp/ipython-input-269254193.py\u001b[0m in \u001b[0;36m<cell line: 0>\u001b[0;34m()\u001b[0m\n\u001b[1;32m      5\u001b[0m \u001b[0;34m\u001b[0m\u001b[0m\n\u001b[1;32m      6\u001b[0m \u001b[0;31m# 1. Normaliza el nombre: Primera letra mayúscula, resto minúsculas, sin espacios\u001b[0m\u001b[0;34m\u001b[0m\u001b[0;34m\u001b[0m\u001b[0m\n\u001b[0;32m----> 7\u001b[0;31m \u001b[0mnombre_normalizado\u001b[0m \u001b[0;34m=\u001b[0m \u001b[0mentrada_usuario\u001b[0m\u001b[0;34m.\u001b[0m\u001b[0m_____\u001b[0m\u001b[0;34m(\u001b[0m\u001b[0;34m)\u001b[0m\u001b[0;34m.\u001b[0m\u001b[0m_____\u001b[0m\u001b[0;34m(\u001b[0m\u001b[0;34m)\u001b[0m  \u001b[0;31m# Completa la cadena\u001b[0m\u001b[0;34m\u001b[0m\u001b[0;34m\u001b[0m\u001b[0m\n\u001b[0m\u001b[1;32m      8\u001b[0m \u001b[0mprint\u001b[0m\u001b[0;34m(\u001b[0m\u001b[0;34m\"1. Nombre normalizado:\"\u001b[0m\u001b[0;34m,\u001b[0m \u001b[0m________\u001b[0m\u001b[0;34m)\u001b[0m\u001b[0;34m\u001b[0m\u001b[0;34m\u001b[0m\u001b[0m\n\u001b[1;32m      9\u001b[0m \u001b[0;34m\u001b[0m\u001b[0m\n",
            "\u001b[0;31mAttributeError\u001b[0m: 'str' object has no attribute '_____'"
          ]
        }
      ]
    }
  ]
}